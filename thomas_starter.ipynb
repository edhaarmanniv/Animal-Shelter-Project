{
 "cells": [
  {
   "cell_type": "code",
   "execution_count": 7,
   "metadata": {},
   "outputs": [],
   "source": [
    "import csv\n",
    "import matplotlib.pyplot as plt\n",
    "import requests\n",
    "import pandas as pd\n",
    "from thomas_config import api_key"
   ]
  },
  {
   "cell_type": "code",
   "execution_count": 8,
   "metadata": {},
   "outputs": [],
   "source": [
    "# def get_current_weather(city, api_key):\n",
    "    \n",
    "#     url = \"http://api.openweathermap.org/data/2.5/weather\"\n",
    "#     payload = {\n",
    "#         \"appid\": api_key,\n",
    "#         \"q\": city\n",
    "#     }\n",
    "#     r = requests.get(url, params=payload)\n",
    "    \n",
    "#     if r.status_code == 200:\n",
    "#         return r.json()\n",
    "#     else:\n",
    "#         return None\n",
    "# get_current_weather(\"snadfhjqrsndfh\", api_key)\n",
    "# cities = [\"london\", \"sdfasdfasdfas\", \"houston\", \"austin\"]\n",
    "# all_cities = []\n",
    "# for city in cities:\n",
    "#     result = get_current_weather(city, api_key)\n",
    "#     if result:\n",
    "#         all_cities.append(result)\n",
    "# pd.DataFrame([{\n",
    "#     \"name\": d[\"name\"],\n",
    "#     \"temp\": d[\"main\"][\"temp\"],\n",
    "#     \"temp_min\": d[\"main\"][\"temp_min\"],\n",
    "#     \"temp_max\": d[\"main\"][\"temp_max\"],\n",
    "# } for d in all_cities])"
   ]
  },
  {
   "cell_type": "code",
   "execution_count": 12,
   "metadata": {},
   "outputs": [],
   "source": [
    "def get_some_data(animal_type, api_key):\n",
    "    \n",
    "    url = \"https://data.austintexas.gov/resource/wter-evkm.json\"\n",
    "    payload = {\n",
    "        \"appid\": api_key,\n",
    "        \"$$app_token\" : \"i7HsefovQB6nTAmBhIEfv3NCP\",\n",
    "        \"q\": animal_type\n",
    "    }\n",
    "    r = requests.get(url, params=payload)\n",
    "    \n",
    "    if r.status_code == 200:\n",
    "        return r.json()\n",
    "    else:\n",
    "        return None"
   ]
  },
  {
   "cell_type": "code",
   "execution_count": 14,
   "metadata": {},
   "outputs": [],
   "source": [
    "get_some_data(\"Cat\", api_key)"
   ]
  },
  {
   "cell_type": "code",
   "execution_count": null,
   "metadata": {},
   "outputs": [],
   "source": []
  }
 ],
 "metadata": {
  "kernelspec": {
   "display_name": "matplotlib-challenge",
   "language": "python",
   "name": "python3"
  },
  "language_info": {
   "codemirror_mode": {
    "name": "ipython",
    "version": 3
   },
   "file_extension": ".py",
   "mimetype": "text/x-python",
   "name": "python",
   "nbconvert_exporter": "python",
   "pygments_lexer": "ipython3",
   "version": "3.8.0"
  }
 },
 "nbformat": 4,
 "nbformat_minor": 4
}
