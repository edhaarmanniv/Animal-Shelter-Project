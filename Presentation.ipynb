{
 "cells": [
  {
   "cell_type": "markdown",
   "metadata": {},
   "source": [
    "# Austin Animal Center Intakes and Outcomes Analysis\n"
   ]
  },
  {
   "cell_type": "markdown",
   "metadata": {},
   "source": [
    "![title](aac_logo.jpg)\n",
    "\n",
    "The Austin Animal Center has 2 Datasets available for download and analysis. One may also utilize the SODA API to retrieve Data. \n",
    "<br>Listed below are the links to the 2 datasets we analyzed:</br>\n",
    "\n",
    "<a href=\"https://data.austintexas.gov/Health-and-Community-Services/Austin-Animal-Center-Intakes/wter-evkm\">Austin Animal Center Intakes</a>\n",
    "<br>\n",
    "<a href=\"https://data.austintexas.gov/Health-and-Community-Services/Austin-Animal-Center-Outcomes/9t4d-g238?no_mobile=true\">Austin Animal Center Outcomes</a></br>\n",
    "\n",
    "Each Dataset consisted of 114k Rows & 12 Columns and contained information on a variety of animals. For this project, we decided to only look at dogs.\n",
    "\n",
    "## Questions we set out to answer were the following:\n",
    "\n",
    "- What is the average length of stay for a dog at the shelter?\n",
    "    - Does it vary by breed?\n",
    "- How many dogs are \"boomerangs\"? (Entered the Shelter -> Left the Shelter -> Came Back)\n",
    "- What are the age demographics of the dogs in the shelter\n",
    "- People say that Black dogs have more trouble getting out of the shelter, does the data support that? \n",
    "    - Which colors get out quickest?\n",
    "- Most common dog names (male/female)"
   ]
  },
  {
   "cell_type": "markdown",
   "metadata": {},
   "source": [
    "# The Process, The Munging, The Analysis\n",
    "\n",
    "## Retrieving Data\n",
    "\n",
    "#### 1. Get Intakes and Outcomes \n",
    "#### 2. Select \"Dogs\" and \"Adopted\"\n",
    "#### 3. Normalize Columns - create signatures for Intake/Outcome\n",
    "#### 4. Join tables through Concatenation\n",
    "#### 5. 68,444 entries"
   ]
  },
  {
   "cell_type": "markdown",
   "metadata": {},
   "source": [
    "The first step in the process was to trim the datasets by only selecting rows where \"animal_type\" was == to 'Dog'.\n",
    "We also trimmed the outcomes dataset to only give us rows where the 'outcome_type' was == to 'Adoption'.\n",
    "This brought our datasets down to 64,554 rows and 30,144 rows respectively.\n",
    "\n",
    "We then decided to join these 2 datasets and create our working dataframe. We initially tried doing this by merging them together on \"animal_id\", but in the end opted for the concatenation of the two. \n",
    "\n",
    "In order to concatenate 2 dataframes, each df must contain the same amount of columns, and the same names. We \"normalized\" the column names to snake_case_lower, and added a \"is_intake\" column to distinguish the rows for intakes vs outcomes.\n",
    "\n",
    "Our final concatenated_df consisted of 68444 rows × 14 columns."
   ]
  },
  {
   "cell_type": "markdown",
   "metadata": {},
   "source": [
    "## Refining and Taking out the Trash\n",
    "\n",
    "### 1. Determining \"Qualified\" Animal ID's\n",
    "    if num_intakes == num_outcomes or num_intakes-1 == num_outcomes:\n",
    "        is_qualified=True\n",
    "\n",
    "</p>Next we needed to find the animal_id's that had at least one intake and one outcome, in that order.\n",
    "For that, we first created 2 dataframes with aggregated counts(# of records) grouped by animal_id. One df showed num_intakes, and one df showed num_outcomes.</p>\n",
    "\n",
    "</p>We then merged these 2 dataframes and checked each animal id to determine if they were qualified. To determine which were qualified, we created a function. See below.</p>\n",
    "\n",
    "### 60,891 Entries\n",
    "</p>From here, we obtained a series of animal_id's which were qualified. We did a loc for these ID's on the concatenated_df from earlier to produce our final working_df which ended up having 60,891 rows & 14 columns.</p>\n",
    "\n",
    "\n",
    "\n",
    "### 2. Munging Breeds and Colors\n",
    "- 1629 Unique Breeds\n",
    "- 280 Unique Color Combinations\n",
    "\n",
    "#### 1. Separate Primary from Secondary\n",
    "#### 2. Colors: Create Primary/Secondary Values\n",
    "#### 3. Breeds: Assign \"Mix\" to Primary Breed\n",
    "\n",
    "The breeds consisted of \"Pure\", \"Mix\" or \"Primary/Secondary\". ex. \"Chihuahua\", \"Chihuahua Mix\" or \"Chihuahua/Pomeranian\"\n",
    "To clean things up, we assigned dogs which had \"Primary/Secondary\" values into the Mix Category, based on which breed was their Primary Breed. ex. \"Pit Bull/Rotweiller\" became \"Pit Bull Mix\"\n",
    "This brought our final number of unique breeds down to 324.\n",
    "\n",
    "The color values consisted of variants on primary colors, such as \"Black Tiger\" or \"Black Smoke\". We looked up these variants and converted them to just their primary color value. ex. \"Black Tiger\" became \"Black\".\n",
    "The column also had values with the format of primary/secondary colors, so we then decided to split these into two columns. This left us with 9 primary colors and 10 secondary colors."
   ]
  },
  {
   "cell_type": "markdown",
   "metadata": {},
   "source": [
    "### Matching Intakes to Outcomes per Dog\n",
    "\n",
    "#### 1. Sort by Animal ID and Date\n",
    "#### 2. Cycle through entries checking Intake THEN Outcome\n",
    "#### 3. Calculating Number of Stays\n",
    "#### 4. Averaging Stay Lengths\n",
    "#### 5. Group by Animal ID\n",
    "\n"
   ]
  },
  {
   "cell_type": "markdown",
   "metadata": {},
   "source": [
    "# Findings"
   ]
  },
  {
   "cell_type": "markdown",
   "metadata": {},
   "source": [
    "## Average Length of Stay \n",
    "\n",
    "#### Average Number of Stays: 1.137 Stays\n",
    "#### Average Stay Length : 25.09 Days\n",
    "\n",
    "\n",
    "## Does it vary by breed?\n",
    "\n",
    "![title](NumberOfDaysInShelterByBreed.png)\n"
   ]
  },
  {
   "cell_type": "markdown",
   "metadata": {},
   "source": [
    " ## What are the age demographics? Do age or sex influence stays?\n",
    " \n",
    "![title](StaysByAgeSex.png)"
   ]
  },
  {
   "cell_type": "markdown",
   "metadata": {},
   "source": [
    "## Influence of Color on Stay Length\n",
    "\n",
    "![title](AvgLenStayByColor.png)"
   ]
  },
  {
   "cell_type": "markdown",
   "metadata": {},
   "source": [
    "## Most common female dog names\n",
    "\n",
    "Bella - 143\n",
    "Luna - 142\n",
    "Daisy - 124\n",
    "<br>Lucy - 98</br>\n",
    "Princess - 79\n",
    "<br>Lola - 79</br>\n",
    "Coco - 64\n",
    "<br>Sadie - 60</br>\n",
    "Penny - 53\n",
    "<br>Bailey - 47</br>"
   ]
  },
  {
   "cell_type": "markdown",
   "metadata": {},
   "source": [
    "## Most common male dog names\n",
    "\n",
    "Max - 142\n",
    "<br>Buddy - 93</br>\n",
    "Rocky - 83\n",
    "<br>Charlie - 63</br>\n",
    "Zeus - 60\n",
    "<br>Jack - 53</br>\n",
    "Duke - 48\n",
    "<br>Toby - 45</br>\n",
    "Blue - 44\n",
    "<br>Milo - 43</br>"
   ]
  },
  {
   "cell_type": "code",
   "execution_count": null,
   "metadata": {},
   "outputs": [],
   "source": []
  }
 ],
 "metadata": {
  "kernelspec": {
   "display_name": "haiku-env",
   "language": "python",
   "name": "python3"
  },
  "language_info": {
   "codemirror_mode": {
    "name": "ipython",
    "version": 3
   },
   "file_extension": ".py",
   "mimetype": "text/x-python",
   "name": "python",
   "nbconvert_exporter": "python",
   "pygments_lexer": "ipython3",
   "version": "3.7.5"
  }
 },
 "nbformat": 4,
 "nbformat_minor": 4
}
