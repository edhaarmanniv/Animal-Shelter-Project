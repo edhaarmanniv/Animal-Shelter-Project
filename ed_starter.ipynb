{
 "cells": [
  {
   "cell_type": "code",
   "execution_count": 38,
   "metadata": {},
   "outputs": [],
   "source": [
    "import os\n",
    "import numpy as np\n",
    "import pandas as pd\n",
    "from matplotlib import pyplot as plt\n",
    "import requests\n",
    "import json\n",
    "from austin_api import api_key\n",
    "\n",
    "intakes_url = \"https://data.austintexas.gov/resource/wter-evkm.json\"\n",
    "outcomes_url = \"https://data.austintexas.gov/resource/9t4d-g238.json\""
   ]
  },
  {
   "cell_type": "code",
   "execution_count": 107,
   "metadata": {},
   "outputs": [],
   "source": [
    "def get_animal_info(url, key, **attr):\n",
    "    \"\"\" Takes api url and a list of search terms and their \n",
    "        values to be passed as params into the request\"\"\"\n",
    "    payload = {\n",
    "        **attr,\n",
    "        \"$$app_token\":key\n",
    "    }\n",
    "    \n",
    "    r = requests.get(url, params=payload)\n",
    "    \n",
    "    if r.status_code == 200:\n",
    "        return r.json()\n",
    "    else:\n",
    "        return None"
   ]
  },
  {
   "cell_type": "code",
   "execution_count": 108,
   "metadata": {},
   "outputs": [],
   "source": [
    "dog_request = get_animal_info(\n",
    "    intakes_url, \n",
    "    api_key, \n",
    "    animal_type = \"Dog\", \n",
    "    sex_upon_intake =\"Intact Male\", \n",
    "    color=\"Tan\")\n",
    "\n",
    "dog_request"
   ]
  },
  {
   "cell_type": "code",
   "execution_count": 109,
   "metadata": {},
   "outputs": [
    {
     "data": {
      "text/html": [
       "<div>\n",
       "<style scoped>\n",
       "    .dataframe tbody tr th:only-of-type {\n",
       "        vertical-align: middle;\n",
       "    }\n",
       "\n",
       "    .dataframe tbody tr th {\n",
       "        vertical-align: top;\n",
       "    }\n",
       "\n",
       "    .dataframe thead th {\n",
       "        text-align: right;\n",
       "    }\n",
       "</style>\n",
       "<table border=\"1\" class=\"dataframe\">\n",
       "  <thead>\n",
       "    <tr style=\"text-align: right;\">\n",
       "      <th></th>\n",
       "    </tr>\n",
       "  </thead>\n",
       "  <tbody>\n",
       "  </tbody>\n",
       "</table>\n",
       "</div>"
      ],
      "text/plain": [
       "Empty DataFrame\n",
       "Columns: []\n",
       "Index: []"
      ]
     },
     "execution_count": 109,
     "metadata": {},
     "output_type": "execute_result"
    }
   ],
   "source": [
    "dog_request_df = pd.DataFrame(dog_request)\n",
    "dog_request_df"
   ]
  },
  {
   "cell_type": "code",
   "execution_count": null,
   "metadata": {},
   "outputs": [],
   "source": []
  }
 ],
 "metadata": {
  "kernelspec": {
   "display_name": "animal-shelter-env",
   "language": "python",
   "name": "animal-shelter-env"
  },
  "language_info": {
   "codemirror_mode": {
    "name": "ipython",
    "version": 3
   },
   "file_extension": ".py",
   "mimetype": "text/x-python",
   "name": "python",
   "nbconvert_exporter": "python",
   "pygments_lexer": "ipython3",
   "version": "3.7.5"
  }
 },
 "nbformat": 4,
 "nbformat_minor": 4
}
